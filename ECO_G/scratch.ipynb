{
 "cells": [
  {
   "cell_type": "code",
   "execution_count": 9,
   "metadata": {},
   "outputs": [],
   "source": [
    "import numpy as np"
   ]
  },
  {
   "cell_type": "code",
   "execution_count": 32,
   "metadata": {},
   "outputs": [],
   "source": [
    "N_STATES = 5\n",
    "new_max = np.array([3,1,0,-1,-3], dtype=np.float32)\n",
    "new_min = np.array([3,1,0,-1,-3], dtype=np.float32)\n",
    "\n",
    "old_max = -1 *np.array([2,2,2,2,2], dtype=np.float32)\n",
    "old_min = -1 *np.array([2,2,2,2,2], dtype=np.float32)\n",
    "\n",
    "newboundary_max = old_max\n",
    "newboundary_min = old_min\n",
    "\n",
    "for i in range(N_STATES):\n",
    "    newboundary_max[i] = new_max[i] if new_max[i] > old_max[i] else (old_max[i]+new_max[i])/2\n",
    "    newboundary_min[i] = new_min[i] if new_min[i] < old_min[i] else (old_min[i]+new_min[i])/2\n",
    "\n",
    "newboundary = np.concatenate((newboundary_max,newboundary_min))"
   ]
  },
  {
   "cell_type": "code",
   "execution_count": 33,
   "metadata": {},
   "outputs": [
    {
     "data": {
      "text/plain": [
       "array([ 3. ,  1. ,  0. , -1. , -2.5,  0.5, -0.5, -1. , -1.5, -3. ],\n",
       "      dtype=float32)"
      ]
     },
     "execution_count": 33,
     "metadata": {},
     "output_type": "execute_result"
    }
   ],
   "source": [
    "newboundary"
   ]
  },
  {
   "cell_type": "code",
   "execution_count": null,
   "metadata": {},
   "outputs": [],
   "source": []
  },
  {
   "cell_type": "code",
   "execution_count": null,
   "metadata": {},
   "outputs": [],
   "source": []
  },
  {
   "cell_type": "code",
   "execution_count": null,
   "metadata": {},
   "outputs": [],
   "source": []
  },
  {
   "cell_type": "code",
   "execution_count": null,
   "metadata": {},
   "outputs": [],
   "source": []
  },
  {
   "cell_type": "code",
   "execution_count": null,
   "metadata": {},
   "outputs": [],
   "source": []
  },
  {
   "cell_type": "code",
   "execution_count": null,
   "metadata": {},
   "outputs": [],
   "source": []
  },
  {
   "cell_type": "code",
   "execution_count": null,
   "metadata": {},
   "outputs": [],
   "source": []
  },
  {
   "cell_type": "code",
   "execution_count": null,
   "metadata": {},
   "outputs": [],
   "source": []
  },
  {
   "cell_type": "code",
   "execution_count": null,
   "metadata": {},
   "outputs": [],
   "source": []
  },
  {
   "cell_type": "code",
   "execution_count": 10,
   "metadata": {},
   "outputs": [],
   "source": [
    "oldboundary =  np.array([2,  2,  2,   2])\n",
    "newboundary =  np.array([3 , 1, -1 , -3])"
   ]
  },
  {
   "cell_type": "code",
   "execution_count": 16,
   "metadata": {},
   "outputs": [
    {
     "data": {
      "text/plain": [
       "2.5"
      ]
     },
     "execution_count": 16,
     "metadata": {},
     "output_type": "execute_result"
    }
   ],
   "source": [
    "np.mean((2,3))"
   ]
  },
  {
   "cell_type": "code",
   "execution_count": 11,
   "metadata": {},
   "outputs": [],
   "source": [
    "def clamp2abs(old, new):\n",
    "    return new if new > old else (old+new)/2"
   ]
  },
  {
   "cell_type": "code",
   "execution_count": 12,
   "metadata": {},
   "outputs": [
    {
     "name": "stdout",
     "output_type": "stream",
     "text": [
      "0 2 3 3\n",
      "1 2 1 1.5\n",
      "2 2 -1 0.5\n",
      "3 2 -3 -0.5\n"
     ]
    }
   ],
   "source": [
    "for i in range(oldboundary.shape[0]):\n",
    "    print(i, oldboundary[i], newboundary[i], clamp2abs(oldboundary[i],newboundary[i]))"
   ]
  },
  {
   "cell_type": "code",
   "execution_count": 13,
   "metadata": {},
   "outputs": [],
   "source": [
    "vec_clamp = np.vectorize(clamp2abs)"
   ]
  },
  {
   "cell_type": "code",
   "execution_count": 14,
   "metadata": {},
   "outputs": [
    {
     "data": {
      "text/plain": [
       "array([3, 1, 0, 0])"
      ]
     },
     "execution_count": 14,
     "metadata": {},
     "output_type": "execute_result"
    }
   ],
   "source": [
    "vec_clamp(oldboundary,newboundary)"
   ]
  },
  {
   "cell_type": "code",
   "execution_count": null,
   "metadata": {},
   "outputs": [],
   "source": []
  },
  {
   "cell_type": "code",
   "execution_count": null,
   "metadata": {},
   "outputs": [],
   "source": []
  },
  {
   "cell_type": "code",
   "execution_count": null,
   "metadata": {},
   "outputs": [],
   "source": []
  },
  {
   "cell_type": "code",
   "execution_count": null,
   "metadata": {},
   "outputs": [],
   "source": []
  },
  {
   "cell_type": "code",
   "execution_count": 36,
   "metadata": {},
   "outputs": [
    {
     "data": {
      "text/plain": [
       "array([3. , 1.5, 1. , 1. ])"
      ]
     },
     "execution_count": 36,
     "metadata": {},
     "output_type": "execute_result"
    }
   ],
   "source": [
    "temp"
   ]
  },
  {
   "cell_type": "code",
   "execution_count": 3,
   "metadata": {},
   "outputs": [
    {
     "data": {
      "text/plain": [
       "array([ 371,  741,  862, 1145, 1259, 1896, 2712, 2758, 3119, 3531, 3615,\n",
       "       3664, 3713, 4068, 4507, 5095, 5584, 5632, 5731, 5955, 5987, 6040,\n",
       "       6118, 6192, 6654, 7100, 7551, 7551, 7628, 7957, 9086, 9382, 9684,\n",
       "       9740, 9948])"
      ]
     },
     "execution_count": 3,
     "metadata": {},
     "output_type": "execute_result"
    }
   ],
   "source": [
    "np.sort([741 ,9086 ,4507, 7551, 5987, 862, 5955, 5095, 3119, 3664, 6654, 7551, 6118, 7628, 3615, 9948, 7957, 6192, 1259, 2712, 9740, 6040, 1896, 9684, 5584, 3531, 371, 5731, 7100, 1145, 9382, 4068, 3713, 2758, 5632])"
   ]
  },
  {
   "cell_type": "code",
   "execution_count": 11,
   "metadata": {},
   "outputs": [],
   "source": [
    "x = np.array([5,6,7,8,9])"
   ]
  },
  {
   "cell_type": "code",
   "execution_count": 14,
   "metadata": {},
   "outputs": [
    {
     "data": {
      "text/plain": [
       "3"
      ]
     },
     "execution_count": 14,
     "metadata": {},
     "output_type": "execute_result"
    }
   ],
   "source": [
    "x[x>=7].shape[0]"
   ]
  },
  {
   "cell_type": "code",
   "execution_count": 9,
   "metadata": {},
   "outputs": [
    {
     "name": "stdout",
     "output_type": "stream",
     "text": [
      "6.0\n"
     ]
    }
   ],
   "source": [
    "a = np.array([2, 2, 2, 2, 2])\n",
    "b = np.array([4, 4, 4 ,4, 4])\n",
    "\n",
    "mean = a+b/2"
   ]
  },
  {
   "cell_type": "code",
   "execution_count": null,
   "metadata": {},
   "outputs": [],
   "source": []
  },
  {
   "cell_type": "code",
   "execution_count": 7,
   "metadata": {},
   "outputs": [
    {
     "data": {
      "text/plain": [
       "2.45"
      ]
     },
     "execution_count": 7,
     "metadata": {},
     "output_type": "execute_result"
    }
   ],
   "source": [
    "2.6 - 6/40"
   ]
  },
  {
   "cell_type": "code",
   "execution_count": 2,
   "metadata": {},
   "outputs": [],
   "source": [
    "NO_OF_NODES = 10"
   ]
  },
  {
   "cell_type": "code",
   "execution_count": 12,
   "metadata": {},
   "outputs": [
    {
     "name": "stdout",
     "output_type": "stream",
     "text": [
      "**\n",
      "0.3\n",
      "0.35\n",
      "0.45000000000000007\n",
      "0.55\n",
      "0.65\n",
      "0.3\n",
      "0.35\n",
      "0.45000000000000007\n",
      "0.55\n",
      "0.65\n",
      "**\n",
      "0.4\n",
      "0.5\n",
      "0.6000000000000001\n",
      "0.7\n",
      "0.8\n",
      "0.4\n",
      "0.5\n",
      "0.6000000000000001\n",
      "0.7\n",
      "0.8\n",
      "**\n",
      "0.5499999999999999\n",
      "0.6499999999999999\n",
      "0.75\n",
      "0.85\n",
      "0.9\n",
      "0.5499999999999999\n",
      "0.6499999999999999\n",
      "0.75\n",
      "0.85\n",
      "0.9\n",
      "**\n",
      "0.7\n",
      "0.8\n",
      "0.9\n",
      "0.9\n",
      "0.9\n",
      "0.7\n",
      "0.8\n",
      "0.9\n",
      "0.9\n",
      "0.9\n",
      "**\n",
      "0.85\n",
      "0.9\n",
      "0.9\n",
      "0.9\n",
      "0.9\n",
      "0.85\n",
      "0.9\n",
      "0.9\n",
      "0.9\n",
      "0.9\n",
      "**\n",
      "0.9\n",
      "0.9\n",
      "0.9\n",
      "0.9\n",
      "0.9\n",
      "0.9\n",
      "0.9\n",
      "0.9\n",
      "0.9\n",
      "0.9\n",
      "**\n",
      "0.9\n",
      "0.9\n",
      "0.9\n",
      "0.9\n",
      "0.9\n",
      "0.9\n",
      "0.9\n",
      "0.9\n",
      "0.9\n",
      "0.9\n",
      "**\n",
      "0.9\n",
      "0.9\n",
      "0.9\n",
      "0.9\n",
      "0.9\n",
      "0.9\n",
      "0.9\n",
      "0.9\n",
      "0.9\n",
      "0.9\n",
      "**\n",
      "0.9\n",
      "0.9\n",
      "0.9\n",
      "0.9\n",
      "0.9\n",
      "0.9\n",
      "0.9\n",
      "0.9\n",
      "0.9\n",
      "0.9\n",
      "**\n",
      "0.9\n",
      "0.9\n",
      "0.9\n",
      "0.9\n",
      "0.9\n",
      "0.9\n",
      "0.9\n",
      "0.9\n",
      "0.9\n",
      "0.9\n"
     ]
    }
   ],
   "source": [
    "for iteration in range(10):\n",
    "    print(\"**\")\n",
    "    for node_id in range(NO_OF_NODES):\n",
    "        print(np.clip(    ((node_id%5 + 1)*0.1 + (iteration+1)*0.15)   ,0.3,0.9))"
   ]
  },
  {
   "cell_type": "code",
   "execution_count": null,
   "metadata": {},
   "outputs": [],
   "source": []
  }
 ],
 "metadata": {
  "kernelspec": {
   "display_name": "Python 3",
   "language": "python",
   "name": "python3"
  },
  "language_info": {
   "codemirror_mode": {
    "name": "ipython",
    "version": 3
   },
   "file_extension": ".py",
   "mimetype": "text/x-python",
   "name": "python",
   "nbconvert_exporter": "python",
   "pygments_lexer": "ipython3",
   "version": "3.6.3"
  }
 },
 "nbformat": 4,
 "nbformat_minor": 2
}
