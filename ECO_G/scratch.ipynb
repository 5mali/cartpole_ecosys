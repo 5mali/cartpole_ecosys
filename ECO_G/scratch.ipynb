{
 "cells": [
  {
   "cell_type": "code",
   "execution_count": 1,
   "metadata": {},
   "outputs": [],
   "source": [
    "import numpy as np"
   ]
  },
  {
   "cell_type": "code",
   "execution_count": 9,
   "metadata": {},
   "outputs": [
    {
     "name": "stdout",
     "output_type": "stream",
     "text": [
      "0.25\n",
      "0.3\n",
      "0.35\n",
      "0.4\n",
      "0.44999999999999996\n",
      "0.49999999999999994\n",
      "0.55\n",
      "0.6\n",
      "0.6499999999999999\n",
      "0.7\n"
     ]
    }
   ],
   "source": [
    "NO_OF_NODES = 10\n",
    "for node_id in range(NO_OF_NODES):\n",
    "    scaling_factor = 0.4 + (1.4 - 0.4) * (node_id +1 )/(NO_OF_NODES)\n",
    "    ORIGNAL_LENGTH = 0.5    \n",
    "    length_mean    = ORIGNAL_LENGTH * scaling_factor\n",
    "    print(length_mean)\n"
   ]
  },
  {
   "cell_type": "code",
   "execution_count": null,
   "metadata": {},
   "outputs": [],
   "source": []
  },
  {
   "cell_type": "code",
   "execution_count": null,
   "metadata": {},
   "outputs": [],
   "source": []
  },
  {
   "cell_type": "code",
   "execution_count": null,
   "metadata": {},
   "outputs": [],
   "source": []
  },
  {
   "cell_type": "code",
   "execution_count": null,
   "metadata": {},
   "outputs": [],
   "source": []
  },
  {
   "cell_type": "code",
   "execution_count": 3,
   "metadata": {},
   "outputs": [
    {
     "data": {
      "text/plain": [
       "array([ 371,  741,  862, 1145, 1259, 1896, 2712, 2758, 3119, 3531, 3615,\n",
       "       3664, 3713, 4068, 4507, 5095, 5584, 5632, 5731, 5955, 5987, 6040,\n",
       "       6118, 6192, 6654, 7100, 7551, 7551, 7628, 7957, 9086, 9382, 9684,\n",
       "       9740, 9948])"
      ]
     },
     "execution_count": 3,
     "metadata": {},
     "output_type": "execute_result"
    }
   ],
   "source": [
    "np.sort([741 ,9086 ,4507, 7551, 5987, 862, 5955, 5095, 3119, 3664, 6654, 7551, 6118, 7628, 3615, 9948, 7957, 6192, 1259, 2712, 9740, 6040, 1896, 9684, 5584, 3531, 371, 5731, 7100, 1145, 9382, 4068, 3713, 2758, 5632])"
   ]
  },
  {
   "cell_type": "code",
   "execution_count": null,
   "metadata": {},
   "outputs": [],
   "source": []
  },
  {
   "cell_type": "code",
   "execution_count": null,
   "metadata": {},
   "outputs": [],
   "source": []
  },
  {
   "cell_type": "code",
   "execution_count": null,
   "metadata": {},
   "outputs": [],
   "source": []
  },
  {
   "cell_type": "code",
   "execution_count": 11,
   "metadata": {},
   "outputs": [],
   "source": [
    "x = np.array([5,6,7,8,9])"
   ]
  },
  {
   "cell_type": "code",
   "execution_count": 14,
   "metadata": {},
   "outputs": [
    {
     "data": {
      "text/plain": [
       "3"
      ]
     },
     "execution_count": 14,
     "metadata": {},
     "output_type": "execute_result"
    }
   ],
   "source": [
    "x[x>=7].shape[0]"
   ]
  },
  {
   "cell_type": "code",
   "execution_count": null,
   "metadata": {},
   "outputs": [],
   "source": []
  },
  {
   "cell_type": "code",
   "execution_count": null,
   "metadata": {},
   "outputs": [],
   "source": []
  },
  {
   "cell_type": "code",
   "execution_count": 7,
   "metadata": {},
   "outputs": [
    {
     "data": {
      "text/plain": [
       "2.45"
      ]
     },
     "execution_count": 7,
     "metadata": {},
     "output_type": "execute_result"
    }
   ],
   "source": [
    "2.6 - 6/40"
   ]
  },
  {
   "cell_type": "code",
   "execution_count": 2,
   "metadata": {},
   "outputs": [],
   "source": [
    "NO_OF_NODES = 10"
   ]
  },
  {
   "cell_type": "code",
   "execution_count": 12,
   "metadata": {},
   "outputs": [
    {
     "name": "stdout",
     "output_type": "stream",
     "text": [
      "**\n",
      "0.3\n",
      "0.35\n",
      "0.45000000000000007\n",
      "0.55\n",
      "0.65\n",
      "0.3\n",
      "0.35\n",
      "0.45000000000000007\n",
      "0.55\n",
      "0.65\n",
      "**\n",
      "0.4\n",
      "0.5\n",
      "0.6000000000000001\n",
      "0.7\n",
      "0.8\n",
      "0.4\n",
      "0.5\n",
      "0.6000000000000001\n",
      "0.7\n",
      "0.8\n",
      "**\n",
      "0.5499999999999999\n",
      "0.6499999999999999\n",
      "0.75\n",
      "0.85\n",
      "0.9\n",
      "0.5499999999999999\n",
      "0.6499999999999999\n",
      "0.75\n",
      "0.85\n",
      "0.9\n",
      "**\n",
      "0.7\n",
      "0.8\n",
      "0.9\n",
      "0.9\n",
      "0.9\n",
      "0.7\n",
      "0.8\n",
      "0.9\n",
      "0.9\n",
      "0.9\n",
      "**\n",
      "0.85\n",
      "0.9\n",
      "0.9\n",
      "0.9\n",
      "0.9\n",
      "0.85\n",
      "0.9\n",
      "0.9\n",
      "0.9\n",
      "0.9\n",
      "**\n",
      "0.9\n",
      "0.9\n",
      "0.9\n",
      "0.9\n",
      "0.9\n",
      "0.9\n",
      "0.9\n",
      "0.9\n",
      "0.9\n",
      "0.9\n",
      "**\n",
      "0.9\n",
      "0.9\n",
      "0.9\n",
      "0.9\n",
      "0.9\n",
      "0.9\n",
      "0.9\n",
      "0.9\n",
      "0.9\n",
      "0.9\n",
      "**\n",
      "0.9\n",
      "0.9\n",
      "0.9\n",
      "0.9\n",
      "0.9\n",
      "0.9\n",
      "0.9\n",
      "0.9\n",
      "0.9\n",
      "0.9\n",
      "**\n",
      "0.9\n",
      "0.9\n",
      "0.9\n",
      "0.9\n",
      "0.9\n",
      "0.9\n",
      "0.9\n",
      "0.9\n",
      "0.9\n",
      "0.9\n",
      "**\n",
      "0.9\n",
      "0.9\n",
      "0.9\n",
      "0.9\n",
      "0.9\n",
      "0.9\n",
      "0.9\n",
      "0.9\n",
      "0.9\n",
      "0.9\n"
     ]
    }
   ],
   "source": [
    "for iteration in range(10):\n",
    "    print(\"**\")\n",
    "    for node_id in range(NO_OF_NODES):\n",
    "        print(np.clip(    ((node_id%5 + 1)*0.1 + (iteration+1)*0.15)   ,0.3,0.9))"
   ]
  },
  {
   "cell_type": "code",
   "execution_count": null,
   "metadata": {},
   "outputs": [],
   "source": []
  }
 ],
 "metadata": {
  "kernelspec": {
   "display_name": "Python 3",
   "language": "python",
   "name": "python3"
  },
  "language_info": {
   "codemirror_mode": {
    "name": "ipython",
    "version": 3
   },
   "file_extension": ".py",
   "mimetype": "text/x-python",
   "name": "python",
   "nbconvert_exporter": "python",
   "pygments_lexer": "ipython3",
   "version": "3.6.3"
  }
 },
 "nbformat": 4,
 "nbformat_minor": 2
}
