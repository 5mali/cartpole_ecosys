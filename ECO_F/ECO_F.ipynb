{
 "cells": [
  {
   "cell_type": "code",
   "execution_count": 1,
   "metadata": {},
   "outputs": [],
   "source": [
    "%matplotlib inline\n",
    "import torch\n",
    "import torch.nn as nn\n",
    "import torch.nn.functional as F\n",
    "import numpy as np\n",
    "import gym\n",
    "import os\n",
    "from datetime import datetime\n",
    "import random\n",
    "import string\n",
    "import multiprocessing as mp\n",
    "import itertools"
   ]
  },
  {
   "cell_type": "code",
   "execution_count": 2,
   "metadata": {},
   "outputs": [],
   "source": [
    "import matplotlib.pyplot as plt\n",
    "import timeit\n",
    "%load_ext memory_profiler"
   ]
  },
  {
   "cell_type": "code",
   "execution_count": 3,
   "metadata": {},
   "outputs": [],
   "source": [
    "np.set_printoptions(formatter={'float': '{: 0.3f}'.format})"
   ]
  },
  {
   "cell_type": "code",
   "execution_count": 4,
   "metadata": {},
   "outputs": [],
   "source": [
    "seed = 9295\n",
    "random.seed(seed)\n",
    "torch.manual_seed(seed)\n",
    "np.random.seed(seed)\n",
    "os.environ['PYTHONHASHSEED'] = str(seed)\n",
    "\n",
    "env = gym.make('CartPole-v0')\n",
    "XTRA_FEAT   = 1 #masscart, masspole, length\n",
    "N_ACTIONS   = env.action_space.n\n",
    "N_STATES    = env.observation_space.shape[0]  +  XTRA_FEAT \n",
    "ENV_A_SHAPE = 0 if isinstance(env.action_space.sample(), int) else env.action_space.sample().shape     # to confirm the shape"
   ]
  },
  {
   "cell_type": "code",
   "execution_count": 5,
   "metadata": {},
   "outputs": [
    {
     "name": "stdout",
     "output_type": "stream",
     "text": [
      "ID:  VBKG0BIX_11_49_43\n",
      "NN-MODEL FILENAME:  ./models/VBKG0BIX_11_49_43_NN.pt\n"
     ]
    }
   ],
   "source": [
    "RNDM_STRING = ''.join(random.choices(string.ascii_uppercase + string.digits, k=8)) + datetime.now().strftime(\"_%H_%M_%S\")\n",
    "print(\"ID: \",RNDM_STRING)\n",
    "MODEL_FILENAME = './models/'+ RNDM_STRING + \"_NN\" + \".pt\"\n",
    "print(\"NN-MODEL FILENAME: \", MODEL_FILENAME)"
   ]
  },
  {
   "cell_type": "code",
   "execution_count": 6,
   "metadata": {},
   "outputs": [],
   "source": [
    "def ndim_grid(start,stop, granularity):\n",
    "    # Set number of dimensions\n",
    "    ndims = len(start)\n",
    "\n",
    "    # List of ranges across all dimensions\n",
    "    L = [np.linspace(start[i],stop[i],granularity[i]) for i in range(ndims)]\n",
    "\n",
    "    # Finally use meshgrid to form all combinations corresponding to all \n",
    "    # dimensions and stack them as M x ndims array\n",
    "    return np.hstack((np.meshgrid(*L))).swapaxes(0,1).reshape(ndims,-1).T"
   ]
  },
  {
   "cell_type": "code",
   "execution_count": 7,
   "metadata": {},
   "outputs": [],
   "source": [
    "def discretize(value, borders):\n",
    "    c_pos_val, c_vel_val, p_ang_val, p_vel_val, length_val   = value\n",
    "    c_pos_s  , c_vel_s  ,p_ang_s   , p_vel_s  , length_s     = borders\n",
    "    \n",
    "    indx = np.empty_like(value).astype(np.uint)\n",
    "    \n",
    "    for i in range(value.shape[0]):\n",
    "        if value[i] > borders[i].max():\n",
    "            indx[i] = borders[i].argmax()\n",
    "        else:\n",
    "            indx[i] = np.where(borders[i] >= value[i])[0][0].astype(np.uint)\n",
    "    return indx\n",
    "\n"
   ]
  },
  {
   "cell_type": "code",
   "execution_count": 8,
   "metadata": {},
   "outputs": [
    {
     "name": "stdout",
     "output_type": "stream",
     "text": [
      "Number of NODES:  10\n",
      "Number of EPISODES per NODE 200\n"
     ]
    }
   ],
   "source": [
    "T_LR           = 1e-2\n",
    "T_GAMMA        = 0.99\n",
    "T_EPSILON      = 0.98\n",
    "\n",
    "NO_OF_NODES    = 10\n",
    "NO_OF_EPISODES = 200\n",
    "TIMESTEP_LIMIT = 200\n",
    "\n",
    "print(\"Number of NODES: \", NO_OF_NODES)\n",
    "print(\"Number of EPISODES per NODE\", NO_OF_EPISODES)"
   ]
  },
  {
   "cell_type": "code",
   "execution_count": 9,
   "metadata": {},
   "outputs": [],
   "source": [
    "# Hyper Parameters\n",
    "HIDDEN_LAYER        = 50\n",
    "BATCH_SIZE          = 32\n",
    "NN_LR               = 1e-3  # learning rate\n",
    "NN_GAMMA            = 0.9   # reward discount\n",
    "TARGET_REPLACE_ITER = 100   # target update frequency\n",
    "TERMINAL_BIAS       = 0.5   # no. of terminal memories in batch\n",
    "MIN_MEMORY_CAP      = 100000"
   ]
  },
  {
   "cell_type": "code",
   "execution_count": 10,
   "metadata": {},
   "outputs": [
    {
     "name": "stdout",
     "output_type": "stream",
     "text": [
      "Number of ITERATIONS:  15\n"
     ]
    }
   ],
   "source": [
    "MAX_NO_OF_ITERATIONS = 15\n",
    "MAX_NN_ITERATIONS    = 7000\n",
    "print(\"Number of ITERATIONS: \",MAX_NO_OF_ITERATIONS)"
   ]
  },
  {
   "cell_type": "code",
   "execution_count": 11,
   "metadata": {},
   "outputs": [],
   "source": [
    "# class Net(nn.Module):\n",
    "#     def __init__(self, ):\n",
    "#         super(Net, self).__init__()\n",
    "#         self.fc1 = nn.Linear(N_STATES, 50)\n",
    "#         nn.init.kaiming_uniform_(self.fc1.weight)   # initialization\n",
    "#         self.out = nn.Linear(50, N_ACTIONS)\n",
    "#         nn.init.xavier_uniform_(self.out.weight)   # initialization\n",
    "\n",
    "#     def forward(self, x):\n",
    "#         x = self.fc1(x)\n",
    "#         x = F.relu(x)\n",
    "#         actions_value = self.out(x)\n",
    "#         return actions_value\n",
    "\n",
    "class Net(nn.Module):\n",
    "    def __init__(self):\n",
    "        super(Net, self).__init__()\n",
    "\n",
    "        self.fc1 = nn.Linear(N_STATES, HIDDEN_LAYER)\n",
    "        nn.init.kaiming_uniform_(self.fc1.weight)\n",
    "\n",
    "        self.adv = nn.Linear(HIDDEN_LAYER, N_ACTIONS)\n",
    "        nn.init.xavier_uniform_(self.adv.weight) \n",
    "    \n",
    "        self.val = nn.Linear(HIDDEN_LAYER, 1)\n",
    "        nn.init.xavier_uniform_(self.val.weight)\n",
    "        \n",
    "    def forward(self, x):\n",
    "        x = self.fc1(x)\n",
    "        x = F.relu(x)\n",
    "\n",
    "        adv = self.adv(x)\n",
    "        val = self.val(x)\n",
    "        \n",
    "        return val + adv - adv.mean()\n",
    "    \n",
    "class D3QN(object):\n",
    "    def __init__(self):\n",
    "        self.eval_net, self.target_net = Net(), Net()\n",
    "\n",
    "        self.learn_step_counter  = 0 # for target updating\n",
    "        \n",
    "        self.good_memory_counter = 0 # for storing non-terminal memories\n",
    "        self.good_memory         = np.zeros((MIN_MEMORY_CAP ,N_STATES*2+2))#np.zeros((int(MEMORY_CAPACITY/2), N_STATES * 2 + 2)) # initialize memory\n",
    "        \n",
    "        self.bad_memory_counter  = 0 # for storing terminal memories\n",
    "        self.bad_memory          = np.zeros((MIN_MEMORY_CAP , N_STATES*2+2))#np.zeros((int(MEMORY_CAPACITY/2), N_STATES * 2 + 2)) # initialize memory\n",
    "        \n",
    "        self.optimizer           = torch.optim.Adam(self.eval_net.parameters(), lr=NN_LR)\n",
    "        self.loss_func           = nn.MSELoss()\n",
    "\n",
    "    def choose_action(self, x):\n",
    "        x = torch.unsqueeze(torch.FloatTensor(x), 0)\n",
    "        # input only one sample\n",
    "        if np.random.uniform() < EPSILON:   # greedy\n",
    "            actions_value = self.eval_net.forward(x)\n",
    "            action = torch.max(actions_value, 1)[1].data.numpy()\n",
    "            action = action[0] if ENV_A_SHAPE == 0 else action.reshape(ENV_A_SHAPE)  # return the argmax index\n",
    "        else:   # random\n",
    "            action = np.random.randint(0, N_ACTIONS)\n",
    "            action = action if ENV_A_SHAPE == 0 else action.reshape(ENV_A_SHAPE)\n",
    "        return action\n",
    "    \n",
    "    def choose_greedy_action(self, x):\n",
    "        x = torch.unsqueeze(torch.FloatTensor(x), 0)\n",
    "        # input only one sample\n",
    "        actions_value = self.eval_net.forward(x)\n",
    "        action = torch.max(actions_value, 1)[1].data.numpy()\n",
    "        action = action[0] if ENV_A_SHAPE == 0 else action.reshape(ENV_A_SHAPE)  # return the argmax index\n",
    "        return action\n",
    "\n",
    "    def get_qvals(self,x):\n",
    "        x = torch.unsqueeze(torch.FloatTensor(x), 0)\n",
    "        actions_value = self.eval_net.forward(x)\n",
    "        actions_value = actions_value.data.numpy().astype(np.float16)\n",
    "        return actions_value\n",
    "\n",
    "    def learn(self):\n",
    "        # target parameter update\n",
    "        if self.learn_step_counter % TARGET_REPLACE_ITER == 0:\n",
    "            self.target_net.load_state_dict(self.eval_net.state_dict())\n",
    "        self.learn_step_counter += 1\n",
    "\n",
    "        # sample batch transitions\n",
    "        good_sample_index_limit = min(MIN_MEMORY_CAP, self.good_memory_counter)\n",
    "        bad_sample_index_limit = min(MIN_MEMORY_CAP, self.bad_memory_counter)\n",
    "\n",
    "        good_sample_index = np.random.choice(int(good_sample_index_limit), int(BATCH_SIZE-int(BATCH_SIZE*TERMINAL_BIAS)))\n",
    "        bad_sample_index  = np.random.choice(int(bad_sample_index_limit),  int(BATCH_SIZE*TERMINAL_BIAS))\n",
    "\n",
    "        b_good_memory = self.good_memory[good_sample_index, :]\n",
    "        b_bad_memory  = self.bad_memory[bad_sample_index, :]\n",
    "        b_memory      = np.vstack((b_good_memory,b_bad_memory))\n",
    "        \n",
    "        b_s  = torch.FloatTensor(b_memory[:, :N_STATES])\n",
    "        b_a  = torch.LongTensor( b_memory[:, N_STATES:N_STATES+1].astype(int))\n",
    "        b_r  = torch.FloatTensor(b_memory[:, N_STATES+1:N_STATES+2])\n",
    "        b_s_ = torch.FloatTensor(b_memory[:, -N_STATES:])\n",
    "\n",
    "        # q_eval w.r.t the action in experience\n",
    "        q_eval   = self.eval_net(b_s).gather(1, b_a)  # shape (batch, 1)\n",
    "        a_eval   = self.eval_net(b_s).max(1)[1].view(BATCH_SIZE, 1) #best action according to eval_net\n",
    "        q_next   = self.target_net(b_s_).detach()     # detach from graph, don't backpropagate\n",
    "        q_target = b_r + NN_GAMMA * q_next.gather(1, a_eval)   # shape (batch, 1)\n",
    "        loss     = self.loss_func(q_eval, q_target)\n",
    "\n",
    "        self.optimizer.zero_grad()\n",
    "        loss.backward()\n",
    "        self.optimizer.step()"
   ]
  },
  {
   "cell_type": "code",
   "execution_count": 12,
   "metadata": {},
   "outputs": [],
   "source": [
    "def clamp(MIN_VAL, VAL, MAX_VAL):\n",
    "    return max(MIN_VAL, min(VAL, MAX_VAL))"
   ]
  },
  {
   "cell_type": "code",
   "execution_count": 13,
   "metadata": {},
   "outputs": [],
   "source": [
    "# ABSOLUTE LIMITS ON STATE VALUES\n",
    "C_POS_ABS_MAX =  2.4\n",
    "C_POS_ABS_MIN = -2.4\n",
    "\n",
    "C_VEL_ABS_MAX =  5\n",
    "C_VEL_ABS_MIN = -5\n",
    "\n",
    "P_ANG_ABS_MAX =  0.25\n",
    "P_ANG_ABS_MIN = -0.25\n",
    "\n",
    "P_VEL_ABS_MAX =  6\n",
    "P_VEL_ABS_MIN = -6\n",
    "\n",
    "LENGTH_ABS_MAX = 0.925\n",
    "LENGTH_ABS_MIN = 0.375"
   ]
  },
  {
   "cell_type": "code",
   "execution_count": 14,
   "metadata": {},
   "outputs": [
    {
     "name": "stdout",
     "output_type": "stream",
     "text": [
      "HI_GRAIN =  40\n",
      "LO_GRAIN =  10\n"
     ]
    }
   ],
   "source": [
    "# SET GRANULARITY\n",
    "HI_GRAIN = 40\n",
    "LO_GRAIN = 10\n",
    "print(\"HI_GRAIN = \", HI_GRAIN)\n",
    "print(\"LO_GRAIN = \", LO_GRAIN)"
   ]
  },
  {
   "cell_type": "code",
   "execution_count": 15,
   "metadata": {},
   "outputs": [],
   "source": [
    "def mp_node_run(node_id, boundary, iteration, node_q_table):\n",
    "\n",
    "    # SET SEED\n",
    "    ###############################################\n",
    "    my_seed = seed + node_id + iteration\n",
    "    random.seed(my_seed)\n",
    "    torch.manual_seed(my_seed)\n",
    "    np.random.seed(my_seed)\n",
    "    os.environ['PYTHONHASHSEED'] = str(my_seed)\n",
    "    my_env = env\n",
    "    my_env.seed(my_seed)\n",
    "    ###############################################\n",
    "    \n",
    "    # Mean values of pole length deviate from original value\n",
    "    scaling_factor = 0.8 + (1.8 - 0.8) * (node_id + 1)/(NO_OF_NODES)\n",
    "    ORIGNAL_LENGTH = 0.5    \n",
    "    length_mean    = ORIGNAL_LENGTH * scaling_factor\n",
    "\n",
    "    LENGTH_MAX = length_mean + 0.025\n",
    "    LENGTH_MIN = length_mean - 0.025\n",
    "\n",
    "    # CREATE STATE TABLE BORDERS\n",
    "    ###############################################\n",
    "    c_pos_s  = np.linspace(C_POS_ABS_MIN,  C_POS_ABS_MAX,  HI_GRAIN)\n",
    "    c_vel_s  = np.linspace(C_VEL_ABS_MIN,  C_VEL_ABS_MAX,  HI_GRAIN)\n",
    "    p_ang_s  = np.linspace(P_ANG_ABS_MIN,  P_ANG_ABS_MAX,  HI_GRAIN)\n",
    "    p_vel_s  = np.linspace(P_VEL_ABS_MIN,  P_VEL_ABS_MAX,  HI_GRAIN)\n",
    "    length_s = np.linspace(LENGTH_MIN,     LENGTH_MAX,     LO_GRAIN)\n",
    "\n",
    "    borders = [c_pos_s, c_vel_s, p_ang_s, p_vel_s, length_s]\n",
    "    ###############################################\n",
    "    \n",
    "    my_Q_TABLE = node_q_table[:,:,:,:, int(node_id*LO_GRAIN):int((node_id+1)*LO_GRAIN)]\n",
    "\n",
    "    time_rec                = np.zeros(NO_OF_EPISODES)\n",
    "    level_up_flag           = False\n",
    "    PERFECT_RUN_COUNTER     = 10\n",
    "    PERFECT_RUNS_HIGH_SCORE = 10\n",
    "    level_up_metric         = 195\n",
    "\n",
    "    exp_rec      = np.empty(N_STATES * 2 + 2)\n",
    "    \n",
    "    if iteration < 3:\n",
    "        my_EPSILON   = (iteration+1) * 0.2 + np.random.uniform(-0.1,0.1)\n",
    "    else:\n",
    "        my_EPSILON   = T_EPSILON + np.random.uniform(-0.01,0.01)\n",
    "        \n",
    "    my_LR        = T_LR\n",
    "    \n",
    "    while True:\n",
    "        i_episode = 0\n",
    "        \n",
    "        while i_episode < NO_OF_EPISODES:\n",
    "            ep_exp_rec = np.empty(N_STATES * 2 + 2)\n",
    "            time_steps = 0\n",
    "\n",
    "            my_env.length   = length_mean + np.random.uniform(-0.025,0.025)\n",
    "            xtra = [my_env.length]\n",
    "            \n",
    "            s = my_env.reset()\n",
    "            s = np.append(s, xtra)\n",
    "            \n",
    "            while True:\n",
    "                time_steps += 1\n",
    "                \n",
    "                #get state\n",
    "                this_state = tuple(discretize(s, borders))\n",
    "                \n",
    "                # choose action\n",
    "                if np.random.uniform() > my_EPSILON:   # greedy\n",
    "                    a = np.random.randint(0, N_ACTIONS)\n",
    "                else:\n",
    "                    a = my_Q_TABLE[this_state][:].argmax()\n",
    "\n",
    "                 # take action\n",
    "                s_, r, done, info = my_env.step(a)\n",
    "                s_ = np.append(s_, xtra)\n",
    "\n",
    "                if done:\n",
    "                    r = -1\n",
    "                    if time_steps >= TIMESTEP_LIMIT:\n",
    "                        r = 1\n",
    "                \n",
    "                #store experience\n",
    "                experience = np.hstack((s,a,r,s_))\n",
    "                exp_rec = np.vstack((exp_rec, experience))\n",
    "\n",
    "                #discretize next_state\n",
    "                next_state = tuple(discretize(s_, borders))\n",
    "\n",
    "                # learn\n",
    "#                 my_Q_TABLE[this_state][a] = my_Q_TABLE[this_state][a] + my_LR * (r + T_GAMMA * my_Q_TABLE[next_state].max() - my_Q_TABLE[this_state][a])\n",
    "                \n",
    "                if done or time_steps >= TIMESTEP_LIMIT:\n",
    "                    time_rec[i_episode] = time_steps\n",
    "                    break\n",
    "                s = s_\n",
    "\n",
    "            i_episode += 1\n",
    "        if i_episode >= NO_OF_EPISODES:\n",
    "            i_episode = 0\n",
    "            break\n",
    "\n",
    "    exp_rec = np.delete(exp_rec, 0, 0)\n",
    "#         message = \"NODE#\"+str(node_id) +\" MAIN Q:\"+ str(new_Q_TABLE.mean()) +\"\\t\" + \"NODE Q:\" + str(my_Q_TABLE.mean())\n",
    "#         print(message)\n",
    "    \n",
    "    # GET NEW STATE BOUNDARIES: +/- 25% of experienced state\n",
    "    [C_POS_MAX, C_VEL_MAX, P_ANG_MAX, P_VEL_MAX, LENGTH_MAX ] = [exp_rec[:,i].max() for i in range(N_STATES)]\n",
    "    [C_POS_MIN, C_VEL_MIN, P_ANG_MIN, P_VEL_MIN, LENGTH_MIN ] = [exp_rec[:,i].min() for i in range(N_STATES)]\n",
    "\n",
    "    newboundary = [C_POS_MAX, C_VEL_MAX, P_ANG_MAX, P_VEL_MAX, LENGTH_MAX,\n",
    "                   C_POS_MIN, C_VEL_MIN, P_ANG_MIN, P_VEL_MIN, LENGTH_MIN]\n",
    "    \n",
    "    return exp_rec, time_rec, newboundary"
   ]
  },
  {
   "cell_type": "code",
   "execution_count": 16,
   "metadata": {},
   "outputs": [],
   "source": [
    "total_serial_timesteps   = 0\n",
    "total_parallel_timesteps = 0"
   ]
  },
  {
   "cell_type": "code",
   "execution_count": 17,
   "metadata": {},
   "outputs": [
    {
     "name": "stdout",
     "output_type": "stream",
     "text": [
      "peak memory: 119207.80 MiB, increment: 109299.94 MiB\n",
      "Quantization TIME:  0.93 minutes\n"
     ]
    }
   ],
   "source": [
    "iteration = 0\n",
    "# my_dqn = D3QN()\n",
    "dqn = D3QN()\n",
    "\n",
    "# INITIALIZE BOUNDARY TO MAXIMUM VALUES\n",
    "init_node_boundary = [C_POS_ABS_MAX, C_VEL_ABS_MAX, P_ANG_ABS_MAX, P_VEL_ABS_MAX, LENGTH_ABS_MAX,\n",
    "                      C_POS_ABS_MIN, C_VEL_ABS_MIN, P_ANG_ABS_MIN, P_VEL_ABS_MIN, LENGTH_ABS_MIN]\n",
    "\n",
    "\n",
    "\n",
    "# CREATE STATE COMBINATIONS\n",
    "# ###############################################\n",
    "\n",
    "init_state_combinations = ndim_grid([C_POS_ABS_MIN, C_VEL_ABS_MIN, P_ANG_ABS_MIN, P_VEL_ABS_MIN, LENGTH_ABS_MIN ],\n",
    "                                    [C_POS_ABS_MAX, C_VEL_ABS_MAX, P_ANG_ABS_MAX, P_VEL_ABS_MAX, LENGTH_ABS_MAX ],\n",
    "                                    [HI_GRAIN , HI_GRAIN , HI_GRAIN , HI_GRAIN , LO_GRAIN*NO_OF_NODES   ])\n",
    "\n",
    "\n",
    "\n",
    "# GET Q-VALUES \n",
    "start = timeit.default_timer()\n",
    "%memit init_q_table = dqn.get_qvals(init_state_combinations).reshape(HI_GRAIN , HI_GRAIN , HI_GRAIN , HI_GRAIN , LO_GRAIN*NO_OF_NODES , -1).astype(np.float16)\n",
    "stop = timeit.default_timer()\n",
    "print(\"Quantization TIME: \", np.round((stop-start)/60,2), \"minutes\")\n",
    "    \n",
    "# SAVE QFILE\n",
    "# node_QFILE = './Q_NPY/' + RNDM_STRING + 'QFILE' + \".npy\"\n",
    "# np.save(node_QFILE, init_q_table)"
   ]
  },
  {
   "cell_type": "code",
   "execution_count": 18,
   "metadata": {},
   "outputs": [],
   "source": [
    "# ENVIRONMENT FOR CHECKING NN MODEL\n",
    "v_env = gym.make('CartPole-v0')\n",
    "v_env.seed(seed*2)\n",
    "\n",
    "# CREATE A POOL OF PROCESSES\n",
    "pool = mp.Pool(NO_OF_NODES)\n",
    "\n",
    "# SET INITIAL NODE BOUDNARIES FOR ALL NODES\n",
    "node_boundaries = [init_node_boundary] * NO_OF_NODES\n",
    "node_q_table = init_q_table"
   ]
  },
  {
   "cell_type": "code",
   "execution_count": 19,
   "metadata": {},
   "outputs": [
    {
     "name": "stdout",
     "output_type": "stream",
     "text": [
      "\n",
      "\n",
      "ITERATION # 0\n",
      "MEAN TABULAR EPSILON =  0.2\n",
      "TABULAR LR      =  0.01\n",
      "SMALLEST TIMESTEP in ITERATION 0: 8\n",
      "REAL TIME TO GENERATE 59740 EXPERIENCES:0:00:31.883992\n"
     ]
    },
    {
     "data": {
      "image/png": "[encoded data removed]",
      "text/plain": [
       "<Figure size 1080x216 with 1 Axes>"
      ]
     },
     "metadata": {},
     "output_type": "display_data"
    },
    {
     "name": "stdout",
     "output_type": "stream",
     "text": [
      "GOOD MEMORY COUNTER:  57740\n",
      "BAD MEMORY COUNTER:  2000\n",
      "Training Neural Network for 7000 iterations @ LR =  0.0001\n",
      "16 TERMINAL EXPERIENCES IN A BATCH SIZE OF 32\n",
      "Validating... MEAN TIME:  200.0\n",
      "Validating... MEAN TIME:  198.21\n",
      "Validating... MEAN TIME:  196.775\n",
      "Validating... MEAN TIME:  195.075\n",
      "Validating... MEAN TIME:  196.86\n",
      "TRAINING TIME:0:00:48.472774\n"
     ]
    },
    {
     "data": {
      "image/png": "[encoded data removed]",
      "text/plain": [
       "<Figure size 1080x216 with 1 Axes>"
      ]
     },
     "metadata": {},
     "output_type": "display_data"
    },
    {
     "name": "stdout",
     "output_type": "stream",
     "text": [
      "peak memory: 120280.69 MiB, increment: 109343.77 MiB\n",
      "Quantization TIME:  0.93 minutes\n",
      "\n",
      "\n",
      "ITERATION # 1\n",
      "MEAN TABULAR EPSILON =  0.4\n",
      "TABULAR LR      =  0.01\n",
      "SMALLEST TIMESTEP in ITERATION 1: 8\n",
      "REAL TIME TO GENERATE 134977 EXPERIENCES:0:00:34.042189\n"
     ]
    },
    {
     "data": {
      "image/png": "[encoded data removed]",
      "text/plain": [
       "<Figure size 1080x216 with 1 Axes>"
      ]
     },
     "metadata": {},
     "output_type": "display_data"
    },
    {
     "name": "stdout",
     "output_type": "stream",
     "text": [
      "GOOD MEMORY COUNTER:  100000\n",
      "BAD MEMORY COUNTER:  3963\n",
      "Training Neural Network for 7000 iterations @ LR =  0.0001\n",
      "16 TERMINAL EXPERIENCES IN A BATCH SIZE OF 32\n",
      "Validating... MEAN TIME:  199.34\n",
      "Validating... MEAN TIME:  200.0\n",
      "Validating... MEAN TIME:  200.0\n",
      "Validating... MEAN TIME:  200.0\n",
      "Validating... MEAN TIME:  200.0\n",
      "TRAINING TIME:0:00:48.732673\n"
     ]
    },
    {
     "data": {
      "image/png": "[encoded data removed]",
      "text/plain": [
       "<Figure size 1080x216 with 1 Axes>"
      ]
     },
     "metadata": {},
     "output_type": "display_data"
    },
    {
     "name": "stdout",
     "output_type": "stream",
     "text": [
      "peak memory: 121145.27 MiB, increment: 109190.22 MiB\n",
      "Quantization TIME:  0.93 minutes\n",
      "\n",
      "\n",
      "ITERATION # 2\n",
      "MEAN TABULAR EPSILON =  0.6000000000000001\n",
      "TABULAR LR      =  0.01\n",
      "SMALLEST TIMESTEP in ITERATION 2: 9\n",
      "REAL TIME TO GENERATE 284109 EXPERIENCES:0:00:54.866928\n"
     ]
    },
    {
     "data": {
      "image/png": "[encoded data removed]",
      "text/plain": [
       "<Figure size 1080x216 with 1 Axes>"
      ]
     },
     "metadata": {},
     "output_type": "display_data"
    },
    {
     "name": "stdout",
     "output_type": "stream",
     "text": [
      "GOOD MEMORY COUNTER:  100000\n",
      "BAD MEMORY COUNTER:  5448\n",
      "Training Neural Network for 7000 iterations @ LR =  0.0001\n",
      "16 TERMINAL EXPERIENCES IN A BATCH SIZE OF 32\n",
      "Validating... MEAN TIME:  200.0\n",
      "Validating... MEAN TIME:  200.0\n",
      "Validating... MEAN TIME:  200.0\n",
      "Validating... MEAN TIME:  200.0\n",
      "Validating... MEAN TIME:  200.0\n",
      "TRAINING TIME:0:00:48.223508\n"
     ]
    },
    {
     "data": {
      "image/png": "[encoded data removed]",
      "text/plain": [
       "<Figure size 1080x216 with 1 Axes>"
      ]
     },
     "metadata": {},
     "output_type": "display_data"
    },
    {
     "name": "stdout",
     "output_type": "stream",
     "text": [
      "peak memory: 121383.01 MiB, increment: 109334.88 MiB\n",
      "Quantization TIME:  0.93 minutes\n",
      "\n",
      "\n",
      "ITERATION # 3\n",
      "MEAN TABULAR EPSILON =  0.98\n",
      "TABULAR LR      =  0.01\n",
      "SMALLEST TIMESTEP in ITERATION 3: 177\n",
      "REAL TIME TO GENERATE 398235 EXPERIENCES:0:00:57.856339\n"
     ]
    },
    {
     "data": {
      "image/png": "[encoded data removed]",
      "text/plain": [
       "<Figure size 1080x216 with 1 Axes>"
      ]
     },
     "metadata": {},
     "output_type": "display_data"
    },
    {
     "name": "stdout",
     "output_type": "stream",
     "text": [
      "GOOD MEMORY COUNTER:  100000\n",
      "BAD MEMORY COUNTER:  5687\n",
      "Training Neural Network for 7000 iterations @ LR =  0.001\n",
      "16 TERMINAL EXPERIENCES IN A BATCH SIZE OF 32\n",
      "Validating... MEAN TIME:  196.455\n",
      "Validating... MEAN TIME:  200.0\n",
      "Validating... MEAN TIME:  200.0\n",
      "Validating... MEAN TIME:  199.44\n",
      "Validating... MEAN TIME:  200.0\n",
      "TRAINING TIME:0:00:49.753329\n"
     ]
    },
    {
     "data": {
      "image/png": "[encoded data removed]",
      "text/plain": [
       "<Figure size 1080x216 with 1 Axes>"
      ]
     },
     "metadata": {},
     "output_type": "display_data"
    },
    {
     "name": "stdout",
     "output_type": "stream",
     "text": [
      "peak memory: 121397.64 MiB, increment: 109283.54 MiB\n",
      "Quantization TIME:  0.93 minutes\n",
      "\n",
      "\n",
      "ITERATION # 4\n",
      "MEAN TABULAR EPSILON =  0.98\n",
      "TABULAR LR      =  0.01\n",
      "SMALLEST TIMESTEP in ITERATION 4: 159\n",
      "REAL TIME TO GENERATE 396052 EXPERIENCES:0:00:48.248807\n"
     ]
    },
    {
     "data": {
      "image/png": "[encoded data removed]",
      "text/plain": [
       "<Figure size 1080x216 with 1 Axes>"
      ]
     },
     "metadata": {},
     "output_type": "display_data"
    },
    {
     "name": "stdout",
     "output_type": "stream",
     "text": [
      "GOOD MEMORY COUNTER:  100000\n",
      "BAD MEMORY COUNTER:  5996\n",
      "Training Neural Network for 7000 iterations @ LR =  0.001\n",
      "16 TERMINAL EXPERIENCES IN A BATCH SIZE OF 32\n",
      "Validating... MEAN TIME:  199.84\n",
      "Validating... MEAN TIME:  200.0\n",
      "Validating... MEAN TIME:  200.0\n",
      "Validating... MEAN TIME:  199.895\n",
      "Validating... MEAN TIME:  200.0\n",
      "TRAINING TIME:0:00:49.125824\n"
     ]
    },
    {
     "data": {
      "image/png": "[encoded data removed]",
      "text/plain": [
       "<Figure size 1080x216 with 1 Axes>"
      ]
     },
     "metadata": {},
     "output_type": "display_data"
    },
    {
     "name": "stdout",
     "output_type": "stream",
     "text": [
      "peak memory: 121533.39 MiB, increment: 109322.24 MiB\n",
      "Quantization TIME:  0.93 minutes\n",
      "\n",
      "\n",
      "ITERATION # 5\n",
      "MEAN TABULAR EPSILON =  0.98\n",
      "TABULAR LR      =  0.01\n",
      "SMALLEST TIMESTEP in ITERATION 5: 200\n",
      "REAL TIME TO GENERATE 400000 EXPERIENCES:0:00:49.767138\n"
     ]
    },
    {
     "data": {
      "image/png": "[encoded data removed]",
      "text/plain": [
       "<Figure size 1080x216 with 1 Axes>"
      ]
     },
     "metadata": {},
     "output_type": "display_data"
    }
   ],
   "source": [
    "while iteration < MAX_NO_OF_ITERATIONS:\n",
    "    if iteration < 3:\n",
    "        node_EPSILON   = (iteration+1) * 0.2\n",
    "    else:\n",
    "        node_EPSILON   = T_EPSILON\n",
    "    \n",
    "    print(\"\\n\")\n",
    "    print(\"ITERATION #\", iteration)\n",
    "    print(\"MEAN TABULAR EPSILON = \", node_EPSILON)\n",
    "    print(\"TABULAR LR      = \", T_LR)\n",
    "\n",
    "    tic = datetime.now()\n",
    "    \n",
    "    # MAP GYM ENVIRONMENT TO EACH PROCESS IN THE POOL\n",
    "    ##################################################################\n",
    "    q_table_list = [node_q_table]* NO_OF_NODES\n",
    "    iter_list = [iteration] * NO_OF_NODES\n",
    "    arg_list = [arg for arg in zip(range(NO_OF_NODES), node_boundaries, iter_list, q_table_list)]\n",
    "    result   = pool.starmap(mp_node_run, arg_list)\n",
    "    ##################################################################\n",
    "    \n",
    "    # GATHER RESULTS\n",
    "    ##################################################################\n",
    "    node_boundaries = np.array([item[2] for item in result])\n",
    "    node_time_rec   = np.array([item[1] for item in result])\n",
    "    node_exp        = np.array([item[0] for item in result])\n",
    "    \n",
    "    all_exp         = np.array([item for each_node_exp in node_exp \n",
    "                                    for episode_exp in each_node_exp \n",
    "                                    for item in episode_exp]).reshape(-1,N_STATES*2+2)\n",
    "    total_parallel_timesteps += node_time_rec.max()\n",
    "    total_serial_timesteps   += node_time_rec.sum()\n",
    "    EXP_GEN = node_time_rec.sum().astype(int)\n",
    "\n",
    "    print(\"SMALLEST TIMESTEP in ITERATION {:d}: {:d}\".format(iteration, node_time_rec.min().astype(int)))\n",
    "    print(\"REAL TIME TO GENERATE {:d} EXPERIENCES:{}\".format(EXP_GEN, (datetime.now()-tic)))\n",
    "    ##################################################################\n",
    "\n",
    "    # PLOT EXPERIENCES\n",
    "    ##################################################################\n",
    "    node_avg_time = node_time_rec.mean(axis=1)\n",
    "    node_std_time = node_time_rec.std(axis=1)\n",
    "    node_max_time = node_time_rec.max(axis=1)\n",
    "    node_min_time = node_time_rec.min(axis=1)\n",
    "\n",
    "    fig = plt.figure(figsize = (15,3))\n",
    "    ax2 = fig.add_subplot(1, 1, 1)\n",
    "    ax2.set_title(\"Q-table Performance\")\n",
    "    ax2.bar(range(NO_OF_NODES) , node_max_time, alpha = 0.1, color = 'r', edgecolor = 'black', capsize=7 )\n",
    "    ax2.bar(range(NO_OF_NODES) , node_avg_time, alpha = 0.5, color = 'g', edgecolor = 'black', capsize=7 )\n",
    "    ax2.bar(range(NO_OF_NODES) , node_min_time, alpha = 0.4, color = 'r', edgecolor = 'black', capsize=7 )\n",
    "\n",
    "    ax2.plot(np.ones_like(node_avg_time)*200, 'g--')\n",
    "    ax2.set_ylabel('Mean Node Lifetime',color = 'g')\n",
    "    ax2.set_ylim(0,TIMESTEP_LIMIT+10)\n",
    "    fig.tight_layout()\n",
    "    ax2.grid()\n",
    "    plt.show()\n",
    "    ##################################################################\n",
    "    \n",
    "    if node_min_time.min() > 195:\n",
    "        final_result = \"SUCCESS\"\n",
    "        break\n",
    "\n",
    "    # SEGREGATE AND STORE EXPERIENCES\n",
    "    ##################################################################\n",
    "    good_mem = all_exp[all_exp[:,N_STATES+1] == 1]    \n",
    "    bad_mem  = all_exp[all_exp[:,N_STATES+1] < 1]\n",
    "\n",
    "\n",
    "    dqn.good_memory = np.insert(dqn.good_memory, 0, good_mem , 0)\n",
    "    dqn.good_memory_counter += good_mem.shape[0]\n",
    "\n",
    "    dqn.bad_memory  = np.insert(dqn.bad_memory, 0, bad_mem , 0)\n",
    "    dqn.bad_memory_counter += bad_mem.shape[0]\n",
    "\n",
    "    dqn.good_memory = dqn.good_memory[:MIN_MEMORY_CAP,:]\n",
    "    dqn.bad_memory = dqn.bad_memory[:MIN_MEMORY_CAP,:]\n",
    "\n",
    "    NN_ITERATIONS = MAX_NN_ITERATIONS\n",
    "\n",
    "    print(\"GOOD MEMORY COUNTER: \", min(MIN_MEMORY_CAP, dqn.good_memory_counter))\n",
    "    print(\"BAD MEMORY COUNTER: \", min(MIN_MEMORY_CAP, dqn.bad_memory_counter))\n",
    "    ##################################################################\n",
    "\n",
    "    # LEARN\n",
    "    ##################################################################\n",
    "    if iteration < 3:\n",
    "        NN_LR = 1e-4\n",
    "    else:\n",
    "        NN_LR = 1e-3\n",
    "    print(\"Training Neural Network for\", NN_ITERATIONS, \"iterations\", \"@ LR = \", NN_LR)\n",
    "    print(int(BATCH_SIZE*TERMINAL_BIAS),\"TERMINAL EXPERIENCES IN A BATCH SIZE OF\",BATCH_SIZE)\n",
    "    tic=datetime.now()\n",
    "    nn_level_up_metric = 0\n",
    "    for nn_iter in range(NN_ITERATIONS):\n",
    "        dqn.learn()\n",
    "        #validate by running for TIMESTEP_LIMIT iterations\n",
    "        if(nn_iter%int(NN_ITERATIONS/5) == int(NN_ITERATIONS/5)-1):\n",
    "            print(\"Validating... \",end=\"\")\n",
    "            time_rec = []\n",
    "            v_env.length   = np.random.uniform(LENGTH_ABS_MIN, LENGTH_ABS_MAX)\n",
    "            v_xtra = [v_env.length]\n",
    "            for i_episode in range(TIMESTEP_LIMIT):\n",
    "                time_step = 0\n",
    "                s = v_env.reset()\n",
    "                s = np.append(s, v_xtra)\n",
    "\n",
    "                while True:\n",
    "                    time_step += 1 \n",
    "                    a = dqn.choose_greedy_action(s)\n",
    "                    s_, r, done, info = v_env.step(a)\n",
    "                    s_ = np.append(s_, v_xtra)\n",
    "\n",
    "                    if done:\n",
    "                        break\n",
    "                    s = s_\n",
    "                time_rec = np.append(time_rec, time_step)\n",
    "            mean_time = time_rec.mean()\n",
    "            print(\"MEAN TIME: \", mean_time)\n",
    "            if mean_time >= nn_level_up_metric:\n",
    "                nn_level_up_metric = mean_time\n",
    "                torch.save(dqn.eval_net.state_dict(), MODEL_FILENAME)\n",
    "\n",
    "    print(\"TRAINING TIME:{}\".format(datetime.now()-tic))\n",
    "    ##################################################################\n",
    "\n",
    "    # CHECK PERFORMANCE OF THE BEST MODEL\n",
    "    ##################################################################\n",
    "    best_dqn = D3QN()\n",
    "    best_dqn.eval_net.load_state_dict(torch.load(MODEL_FILENAME))\n",
    "    best_dqn.eval_net.eval()\n",
    "\n",
    "    time_rec = []\n",
    "    for i_episode in range(TIMESTEP_LIMIT):\n",
    "        env.length   = np.random.uniform(LENGTH_ABS_MIN, LENGTH_ABS_MAX)\n",
    "        Xtra = [env.length]\n",
    "        time_step = 0\n",
    "        s = env.reset()\n",
    "        s = np.append(s, Xtra)\n",
    "\n",
    "        while True:\n",
    "    #         env.render()\n",
    "            time_step += 1 \n",
    "            a = best_dqn.choose_greedy_action(s)\n",
    "            s_, r, done, info = env.step(a)\n",
    "            s_ = np.append(s_, Xtra)\n",
    "            if done:\n",
    "                break\n",
    "            s = s_\n",
    "        time_rec = np.append(time_rec, time_step)\n",
    "\n",
    "    fig = plt.figure(figsize = (15,3))\n",
    "    ax2 = fig.add_subplot(1, 1, 1)\n",
    "    data = time_rec\n",
    "    ax2.plot(data, color = 'm')\n",
    "    ax2.plot(np.ones_like(data)*200, 'm--')\n",
    "    ax2.set_title('Neural Network Performance using BEST MODEL ')\n",
    "    ax2.set_ylabel('Time Steps',color = 'm')\n",
    "    ax2.set_ylim(0,TIMESTEP_LIMIT+10)\n",
    "    fig.tight_layout()\n",
    "    ax2.grid()\n",
    "    plt.show()\n",
    "    \n",
    "    \n",
    "        \n",
    "    ##################################################################\n",
    "    \n",
    "    # CREATE ONE LARGE Q-TABLES FROM WHICH THE NODES STRIP\n",
    "    ##################################################################\n",
    "        \n",
    "#     node_state_combinations = ndim_grid([C_POS_ABS_MIN, C_VEL_ABS_MIN, P_ANG_ABS_MIN, P_VEL_ABS_MIN, LENGTH_ABS_MIN ],\n",
    "#                                         [C_POS_ABS_MAX, C_VEL_ABS_MAX, P_ANG_ABS_MAX, P_VEL_ABS_MAX, LENGTH_ABS_MAX ],\n",
    "#                                         [HI_GRAIN , HI_GRAIN , HI_GRAIN , HI_GRAIN , LO_GRAIN * NO_OF_NODES  ])\n",
    "    \n",
    "    start = timeit.default_timer()\n",
    "    # GET Q-VALUES \n",
    "    %memit node_q_table = best_dqn.get_qvals(init_state_combinations).reshape(HI_GRAIN , HI_GRAIN , HI_GRAIN , HI_GRAIN , LO_GRAIN*NO_OF_NODES , -1).astype(np.float16)\n",
    "\n",
    "    # SAVE QFILE\n",
    "#     np.save(node_QFILE, node_q_table)\n",
    "    stop = timeit.default_timer()\n",
    "\n",
    "#     ##################################################################\n",
    "    \n",
    "#     # CREATE INDIVIDUALIZED Q-TABLES FOR THE NODES\n",
    "#     ##################################################################\n",
    "    \n",
    "#     for node_id in range(NO_OF_NODES):\n",
    "# #         # SET STATE VALUE BORDERS AS REQUESTED BY THE NODE\n",
    "# #         ###############################################\n",
    "#         [C_POS_MAX, C_VEL_MAX, P_ANG_MAX, P_VEL_MAX, LENGTH_MAX,\n",
    "#          C_POS_MIN, C_VEL_MIN, P_ANG_MIN, P_VEL_MIN, LENGTH_MIN]  = node_boundaries[node_id]\n",
    "# #         ###############################################\n",
    "#         print(node_id,'-max-',node_boundaries[node_id][:N_STATES])\n",
    "#         print(node_id,'-min-',node_boundaries[node_id][N_STATES:])\n",
    "#         print(\"\")\n",
    "        \n",
    "# #         node_boundaries[node_id] = [C_POS_ABS_MAX, C_VEL_ABS_MAX, P_ANG_ABS_MAX, P_VEL_ABS_MAX, LENGTH_MAX,\n",
    "# #                                     C_POS_ABS_MIN, C_VEL_ABS_MIN, P_ANG_ABS_MIN, P_VEL_ABS_MIN, LENGTH_MIN]\n",
    "# #         # CREATE STATE COMBINATIONS\n",
    "# #         ###############################################\n",
    "\n",
    "#     node_state_combinations = ndim_grid([C_POS_ABS_MIN, C_VEL_ABS_MIN, P_ANG_ABS_MIN, P_VEL_ABS_MIN, LENGTH_ABS_MIN ],\n",
    "#                                         [C_POS_ABS_MAX, C_VEL_ABS_MAX, P_ANG_ABS_MAX, P_VEL_ABS_MAX, LENGTH_ABS_MAX ],\n",
    "#                                         [HI_GRAIN , HI_GRAIN , HI_GRAIN , HI_GRAIN , LO_GRAIN   ])\n",
    "#         ###############################################\n",
    "#     start = timeit.default_timer()\n",
    "#     # GET Q-VALUES \n",
    "#     %memit node_q_table = best_dqn.get_qvals(node_state_combinations).reshape(HI_GRAIN , HI_GRAIN , HI_GRAIN , HI_GRAIN , LO_GRAIN , -1).astype(np.float16)\n",
    "\n",
    "#     # SAVE QFILE\n",
    "#     np.save(node_QFILE, node_q_table)\n",
    "#         #############################################################################################################################################\n",
    "#     stop = timeit.default_timer()\n",
    "    print(\"Quantization TIME: \", np.round((stop-start)/60,2), \"minutes\")\n",
    "    iteration += 1\n",
    "pool.close()\n",
    "pool.join()"
   ]
  },
  {
   "cell_type": "code",
   "execution_count": 20,
   "metadata": {},
   "outputs": [
    {
     "name": "stdout",
     "output_type": "stream",
     "text": [
      "Total Parallel Timesteps :  1118.0\n",
      "Total Serial Timesteps   :  1673113.0\n",
      "Speed-up                 :  1496.52\n"
     ]
    }
   ],
   "source": [
    "print(\"Total Parallel Timesteps : \", total_parallel_timesteps)\n",
    "print(\"Total Serial Timesteps   : \", total_serial_timesteps)\n",
    "print(\"Speed-up                 :  {:6.2f}\".format(total_serial_timesteps/total_parallel_timesteps))"
   ]
  },
  {
   "cell_type": "code",
   "execution_count": 21,
   "metadata": {},
   "outputs": [],
   "source": [
    "pool.close()\n",
    "pool.join()\n",
    "if iteration == MAX_NO_OF_ITERATIONS:\n",
    "    final_result = \"FAILURE\""
   ]
  },
  {
   "cell_type": "code",
   "execution_count": 22,
   "metadata": {},
   "outputs": [
    {
     "name": "stdout",
     "output_type": "stream",
     "text": [
      "  9295 SUCCESS 200   5    1118    1673113    1496.52\n"
     ]
    }
   ],
   "source": [
    "print(\"{:6d} {} {:3d} {:3d} {:7d} {:10d} {:10.2f}\".format(seed, final_result, int(node_min_time.min()), int(iteration), int(total_parallel_timesteps), int(total_serial_timesteps), total_serial_timesteps/total_parallel_timesteps))"
   ]
  },
  {
   "cell_type": "code",
   "execution_count": null,
   "metadata": {},
   "outputs": [],
   "source": []
  }
 ],
 "metadata": {
  "kernelspec": {
   "display_name": "Python 3",
   "language": "python",
   "name": "python3"
  },
  "language_info": {
   "codemirror_mode": {
    "name": "ipython",
    "version": 3
   },
   "file_extension": ".py",
   "mimetype": "text/x-python",
   "name": "python",
   "nbconvert_exporter": "python",
   "pygments_lexer": "ipython3",
   "version": "3.6.3"
  }
 },
 "nbformat": 4,
 "nbformat_minor": 2
}
