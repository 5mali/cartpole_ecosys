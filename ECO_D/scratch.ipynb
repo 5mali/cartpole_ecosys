{
 "cells": [
  {
   "cell_type": "code",
   "execution_count": 1,
   "metadata": {},
   "outputs": [],
   "source": [
    "import numpy as np"
   ]
  },
  {
   "cell_type": "code",
   "execution_count": 27,
   "metadata": {},
   "outputs": [],
   "source": [
    "init = np.random.rand(5,4,2)"
   ]
  },
  {
   "cell_type": "code",
   "execution_count": 28,
   "metadata": {},
   "outputs": [
    {
     "data": {
      "text/plain": [
       "(5, 4, 2)"
      ]
     },
     "execution_count": 28,
     "metadata": {},
     "output_type": "execute_result"
    }
   ],
   "source": [
    "init.shape"
   ]
  },
  {
   "cell_type": "code",
   "execution_count": 39,
   "metadata": {},
   "outputs": [
    {
     "data": {
      "text/plain": [
       "array([[[0.32482602, 0.53381962],\n",
       "        [0.40485876, 0.92901238],\n",
       "        [0.44988025, 0.1775792 ],\n",
       "        [0.64455572, 0.48329906]],\n",
       "\n",
       "       [[0.76923953, 0.64589161],\n",
       "        [0.90038746, 0.31224534],\n",
       "        [0.66032428, 0.09383467],\n",
       "        [0.85990032, 0.45292531]],\n",
       "\n",
       "       [[0.422897  , 0.50795962],\n",
       "        [0.92854565, 0.36166346],\n",
       "        [0.97338973, 0.45487847],\n",
       "        [0.92269458, 0.62145575]],\n",
       "\n",
       "       [[0.97750929, 0.09320586],\n",
       "        [0.02581013, 0.70740217],\n",
       "        [0.73526094, 0.53141408],\n",
       "        [0.6550712 , 0.49882258]],\n",
       "\n",
       "       [[0.86110453, 0.64271794],\n",
       "        [0.91662188, 0.21197176],\n",
       "        [0.8783339 , 0.37830751],\n",
       "        [0.82892257, 0.35519572]]])"
      ]
     },
     "execution_count": 39,
     "metadata": {},
     "output_type": "execute_result"
    }
   ],
   "source": [
    "init"
   ]
  },
  {
   "cell_type": "code",
   "execution_count": 30,
   "metadata": {},
   "outputs": [],
   "source": [
    "final = np.zeros((5,4,3,2))"
   ]
  },
  {
   "cell_type": "code",
   "execution_count": 31,
   "metadata": {},
   "outputs": [
    {
     "data": {
      "text/plain": [
       "(5, 4, 3, 2)"
      ]
     },
     "execution_count": 31,
     "metadata": {},
     "output_type": "execute_result"
    }
   ],
   "source": [
    "final.shape"
   ]
  },
  {
   "cell_type": "code",
   "execution_count": 43,
   "metadata": {},
   "outputs": [],
   "source": [
    "# final[:,:,0,:] = init\n",
    "final = np.repeat(init[:,:,np.newaxis,:],3,axis=2)"
   ]
  },
  {
   "cell_type": "code",
   "execution_count": 44,
   "metadata": {},
   "outputs": [
    {
     "data": {
      "text/plain": [
       "(5, 4, 3, 2)"
      ]
     },
     "execution_count": 44,
     "metadata": {},
     "output_type": "execute_result"
    }
   ],
   "source": [
    "final.shape"
   ]
  },
  {
   "cell_type": "code",
   "execution_count": 45,
   "metadata": {},
   "outputs": [
    {
     "data": {
      "text/plain": [
       "array([[[[0.32482602, 0.53381962],\n",
       "         [0.32482602, 0.53381962],\n",
       "         [0.32482602, 0.53381962]],\n",
       "\n",
       "        [[0.40485876, 0.92901238],\n",
       "         [0.40485876, 0.92901238],\n",
       "         [0.40485876, 0.92901238]],\n",
       "\n",
       "        [[0.44988025, 0.1775792 ],\n",
       "         [0.44988025, 0.1775792 ],\n",
       "         [0.44988025, 0.1775792 ]],\n",
       "\n",
       "        [[0.64455572, 0.48329906],\n",
       "         [0.64455572, 0.48329906],\n",
       "         [0.64455572, 0.48329906]]],\n",
       "\n",
       "\n",
       "       [[[0.76923953, 0.64589161],\n",
       "         [0.76923953, 0.64589161],\n",
       "         [0.76923953, 0.64589161]],\n",
       "\n",
       "        [[0.90038746, 0.31224534],\n",
       "         [0.90038746, 0.31224534],\n",
       "         [0.90038746, 0.31224534]],\n",
       "\n",
       "        [[0.66032428, 0.09383467],\n",
       "         [0.66032428, 0.09383467],\n",
       "         [0.66032428, 0.09383467]],\n",
       "\n",
       "        [[0.85990032, 0.45292531],\n",
       "         [0.85990032, 0.45292531],\n",
       "         [0.85990032, 0.45292531]]],\n",
       "\n",
       "\n",
       "       [[[0.422897  , 0.50795962],\n",
       "         [0.422897  , 0.50795962],\n",
       "         [0.422897  , 0.50795962]],\n",
       "\n",
       "        [[0.92854565, 0.36166346],\n",
       "         [0.92854565, 0.36166346],\n",
       "         [0.92854565, 0.36166346]],\n",
       "\n",
       "        [[0.97338973, 0.45487847],\n",
       "         [0.97338973, 0.45487847],\n",
       "         [0.97338973, 0.45487847]],\n",
       "\n",
       "        [[0.92269458, 0.62145575],\n",
       "         [0.92269458, 0.62145575],\n",
       "         [0.92269458, 0.62145575]]],\n",
       "\n",
       "\n",
       "       [[[0.97750929, 0.09320586],\n",
       "         [0.97750929, 0.09320586],\n",
       "         [0.97750929, 0.09320586]],\n",
       "\n",
       "        [[0.02581013, 0.70740217],\n",
       "         [0.02581013, 0.70740217],\n",
       "         [0.02581013, 0.70740217]],\n",
       "\n",
       "        [[0.73526094, 0.53141408],\n",
       "         [0.73526094, 0.53141408],\n",
       "         [0.73526094, 0.53141408]],\n",
       "\n",
       "        [[0.6550712 , 0.49882258],\n",
       "         [0.6550712 , 0.49882258],\n",
       "         [0.6550712 , 0.49882258]]],\n",
       "\n",
       "\n",
       "       [[[0.86110453, 0.64271794],\n",
       "         [0.86110453, 0.64271794],\n",
       "         [0.86110453, 0.64271794]],\n",
       "\n",
       "        [[0.91662188, 0.21197176],\n",
       "         [0.91662188, 0.21197176],\n",
       "         [0.91662188, 0.21197176]],\n",
       "\n",
       "        [[0.8783339 , 0.37830751],\n",
       "         [0.8783339 , 0.37830751],\n",
       "         [0.8783339 , 0.37830751]],\n",
       "\n",
       "        [[0.82892257, 0.35519572],\n",
       "         [0.82892257, 0.35519572],\n",
       "         [0.82892257, 0.35519572]]]])"
      ]
     },
     "execution_count": 45,
     "metadata": {},
     "output_type": "execute_result"
    }
   ],
   "source": [
    "final"
   ]
  },
  {
   "cell_type": "code",
   "execution_count": 48,
   "metadata": {},
   "outputs": [],
   "source": [
    "a = np.array([10])"
   ]
  },
  {
   "cell_type": "code",
   "execution_count": 51,
   "metadata": {},
   "outputs": [
    {
     "data": {
      "text/plain": [
       "array([5])"
      ]
     },
     "execution_count": 51,
     "metadata": {},
     "output_type": "execute_result"
    }
   ],
   "source": [
    "a.clip(0,5,out=a)"
   ]
  },
  {
   "cell_type": "code",
   "execution_count": 52,
   "metadata": {},
   "outputs": [
    {
     "data": {
      "text/plain": [
       "array([5])"
      ]
     },
     "execution_count": 52,
     "metadata": {},
     "output_type": "execute_result"
    }
   ],
   "source": [
    "a"
   ]
  },
  {
   "cell_type": "code",
   "execution_count": null,
   "metadata": {},
   "outputs": [],
   "source": []
  }
 ],
 "metadata": {
  "kernelspec": {
   "display_name": "Python 3",
   "language": "python",
   "name": "python3"
  },
  "language_info": {
   "codemirror_mode": {
    "name": "ipython",
    "version": 3
   },
   "file_extension": ".py",
   "mimetype": "text/x-python",
   "name": "python",
   "nbconvert_exporter": "python",
   "pygments_lexer": "ipython3",
   "version": "3.6.3"
  }
 },
 "nbformat": 4,
 "nbformat_minor": 2
}
